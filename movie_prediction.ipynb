{
  "nbformat": 4,
  "nbformat_minor": 0,
  "metadata": {
    "colab": {
      "name": "movie_prediction.ipynb",
      "provenance": [],
      "collapsed_sections": [],
      "authorship_tag": "ABX9TyPgIFeCcnSK5jSzRvW4ZZnM",
      "include_colab_link": true
    },
    "kernelspec": {
      "display_name": "Python 3",
      "name": "python3"
    },
    "language_info": {
      "name": "python"
    }
  },
  "cells": [
    {
      "cell_type": "markdown",
      "metadata": {
        "id": "view-in-github",
        "colab_type": "text"
      },
      "source": [
        "<a href=\"https://colab.research.google.com/github/nitinfaye/Movies-predictions/blob/main/movie_prediction.ipynb\" target=\"_parent\"><img src=\"https://colab.research.google.com/assets/colab-badge.svg\" alt=\"Open In Colab\"/></a>"
      ]
    },
    {
      "cell_type": "code",
      "metadata": {
        "colab": {
          "base_uri": "https://localhost:8080/"
        },
        "id": "7NjZc7cJ8vwD",
        "outputId": "8e61b8ab-31f5-4083-b14e-8e7f3ff420df"
      },
      "source": [
        "!pip install scikit-multilearn\n",
        "!pip install -U scikit-learn\n"
      ],
      "execution_count": null,
      "outputs": [
        {
          "output_type": "stream",
          "text": [
            "Collecting scikit-multilearn\n",
            "\u001b[?25l  Downloading https://files.pythonhosted.org/packages/bb/1f/e6ff649c72a1cdf2c7a1d31eb21705110ce1c5d3e7e26b2cc300e1637272/scikit_multilearn-0.2.0-py3-none-any.whl (89kB)\n",
            "\r\u001b[K     |███▊                            | 10kB 11.8MB/s eta 0:00:01\r\u001b[K     |███████▍                        | 20kB 15.0MB/s eta 0:00:01\r\u001b[K     |███████████                     | 30kB 16.9MB/s eta 0:00:01\r\u001b[K     |██████████████▊                 | 40kB 17.2MB/s eta 0:00:01\r\u001b[K     |██████████████████▍             | 51kB 18.6MB/s eta 0:00:01\r\u001b[K     |██████████████████████          | 61kB 19.6MB/s eta 0:00:01\r\u001b[K     |█████████████████████████▊      | 71kB 20.9MB/s eta 0:00:01\r\u001b[K     |█████████████████████████████▍  | 81kB 22.0MB/s eta 0:00:01\r\u001b[K     |████████████████████████████████| 92kB 6.5MB/s \n",
            "\u001b[?25hInstalling collected packages: scikit-multilearn\n",
            "Successfully installed scikit-multilearn-0.2.0\n",
            "Collecting scikit-learn\n",
            "\u001b[?25l  Downloading https://files.pythonhosted.org/packages/a8/eb/a48f25c967526b66d5f1fa7a984594f0bf0a5afafa94a8c4dbc317744620/scikit_learn-0.24.2-cp37-cp37m-manylinux2010_x86_64.whl (22.3MB)\n",
            "\u001b[K     |████████████████████████████████| 22.3MB 47.3MB/s \n",
            "\u001b[?25hRequirement already satisfied, skipping upgrade: joblib>=0.11 in /usr/local/lib/python3.7/dist-packages (from scikit-learn) (1.0.1)\n",
            "Requirement already satisfied, skipping upgrade: numpy>=1.13.3 in /usr/local/lib/python3.7/dist-packages (from scikit-learn) (1.19.5)\n",
            "Requirement already satisfied, skipping upgrade: scipy>=0.19.1 in /usr/local/lib/python3.7/dist-packages (from scikit-learn) (1.4.1)\n",
            "Collecting threadpoolctl>=2.0.0\n",
            "  Downloading https://files.pythonhosted.org/packages/f7/12/ec3f2e203afa394a149911729357aa48affc59c20e2c1c8297a60f33f133/threadpoolctl-2.1.0-py3-none-any.whl\n",
            "Installing collected packages: threadpoolctl, scikit-learn\n",
            "  Found existing installation: scikit-learn 0.22.2.post1\n",
            "    Uninstalling scikit-learn-0.22.2.post1:\n",
            "      Successfully uninstalled scikit-learn-0.22.2.post1\n",
            "Successfully installed scikit-learn-0.24.2 threadpoolctl-2.1.0\n"
          ],
          "name": "stdout"
        }
      ]
    },
    {
      "cell_type": "code",
      "metadata": {
        "id": "lUY0efPfLPgj"
      },
      "source": [
        "import os\n",
        "import csv\n",
        "import datetime\n",
        "import joblib\n",
        "import warnings\n",
        "\n",
        "import numpy as np\n",
        "import pandas as pd\n",
        "\n",
        "from random import Random\n",
        "\n",
        "from argparse import ArgumentParser\n",
        "\n",
        "from sklearn.feature_extraction.text import TfidfVectorizer\n",
        "from sklearn.model_selection import train_test_split\n",
        "from sklearn.model_selection import GridSearchCV\n",
        "from sklearn.model_selection import RandomizedSearchCV\n",
        "from sklearn.metrics import hamming_loss\n",
        "from sklearn.metrics import accuracy_score\n",
        "from sklearn.metrics import precision_score\n",
        "from sklearn.metrics import recall_score\n",
        "from sklearn.metrics import f1_score\n",
        "\n",
        "from sklearn.naive_bayes import BernoulliNB\n",
        "from sklearn.naive_bayes import MultinomialNB\n",
        "from sklearn.linear_model import LogisticRegression\n",
        "from sklearn.linear_model import RidgeClassifier\n",
        "from sklearn.linear_model import RidgeClassifierCV\n",
        "from sklearn.linear_model import SGDClassifier\n",
        "from sklearn.neighbors import KNeighborsClassifier\n",
        "from sklearn.tree import DecisionTreeClassifier\n",
        "from sklearn.ensemble import GradientBoostingClassifier\n",
        "from sklearn.multiclass import OneVsRestClassifier\n",
        "from sklearn.svm import SVC\n",
        "from sklearn.ensemble import RandomForestClassifier\n",
        "from sklearn.ensemble import GradientBoostingClassifier\n",
        "\n",
        "from skmultilearn.problem_transform import BinaryRelevance\n",
        "from skmultilearn.problem_transform import ClassifierChain\n",
        "from skmultilearn.problem_transform import LabelPowerset\n",
        "from skmultilearn.adapt import MLkNN\n",
        "from skmultilearn.ensemble import RakelD\n",
        "\n",
        "from scipy.stats import poisson\n",
        "from scipy.stats import uniform\n",
        "\n",
        "import matplotlib.pyplot as plt"
      ],
      "execution_count": null,
      "outputs": []
    },
    {
      "cell_type": "code",
      "metadata": {
        "id": "gpRJlfPTGTWY"
      },
      "source": [
        "pd.options.display.max_columns = 498551"
      ],
      "execution_count": null,
      "outputs": []
    },
    {
      "cell_type": "code",
      "metadata": {
        "id": "superb-classroom"
      },
      "source": [
        "# Максимальное количество значимых токенов, используется при векторизации описания фильма\n",
        "MAX_FEATURES = 498551"
      ],
      "execution_count": null,
      "outputs": []
    },
    {
      "cell_type": "code",
      "metadata": {
        "id": "appointed-cooperation"
      },
      "source": [
        "ALL_GENRES = [\n",
        "    'absurd',\n",
        "    'action',\n",
        "    'adult comedy',\n",
        "    'allegory',\n",
        "    'alternate history',\n",
        "    'alternate reality',\n",
        "    'anti war',\n",
        "    'atmospheric',\n",
        "    'autobiographical',\n",
        "    'avant garde',\n",
        "    'blaxploitation',\n",
        "    'bleak',\n",
        "    'boring',\n",
        "    'brainwashing',\n",
        "    'christian film',\n",
        "    'claustrophobic',\n",
        "    'clever',\n",
        "    'comedy',\n",
        "    'comic',\n",
        "    'cruelty',\n",
        "    'cult',\n",
        "    'cute',\n",
        "    'dark',\n",
        "    'depressing',\n",
        "    'dramatic',\n",
        "    'entertaining',\n",
        "    'fantasy',\n",
        "    'feel-good',\n",
        "    'flashback',\n",
        "    'good versus evil',\n",
        "    'gothic',\n",
        "    'grindhouse film',\n",
        "    'haunting',\n",
        "    'historical',\n",
        "    'historical fiction',\n",
        "    'home movie',\n",
        "    'horror',\n",
        "    'humor',\n",
        "    'insanity',\n",
        "    'inspiring',\n",
        "    'intrigue',\n",
        "    'magical realism',\n",
        "    'melodrama',\n",
        "    'murder',\n",
        "    'mystery',\n",
        "    'neo noir',\n",
        "    'non fiction',\n",
        "    'paranormal',\n",
        "    'philosophical',\n",
        "    'plot twist',\n",
        "    'pornographic',\n",
        "    'prank',\n",
        "    'psychedelic',\n",
        "    'psychological',\n",
        "    'queer',\n",
        "    'realism',\n",
        "    'revenge',\n",
        "    'romantic',\n",
        "    'sadist',\n",
        "    'satire',\n",
        "    'sci-fi',\n",
        "    'sentimental',\n",
        "    'storytelling',\n",
        "    'stupid',\n",
        "    'suicidal',\n",
        "    'suspenseful',\n",
        "    'thought-provoking',\n",
        "    'tragedy',\n",
        "    'violence',\n",
        "    'western',\n",
        "    'whimsical'\n",
        "]"
      ],
      "execution_count": null,
      "outputs": []
    },
    {
      "cell_type": "code",
      "metadata": {
        "id": "pleased-melbourne"
      },
      "source": [
        "# Все модели, которые мы можем обучить.\n",
        "ALL_MODELS = [\n",
        "    # Binary Relevance с использованием наивного Байесовского классификатора\n",
        "    \"br_nb\",\n",
        "    # Binary Relevance с использованием логистической регрессии\n",
        "    \"br_log\",\n",
        "    \"br_log2\",\n",
        "    # Binary Relevance с использованием дерева принятия решений\n",
        "    \"br_tree\",\n",
        "    # Binary Relevance с использованием дерева принятия решений и перебора гиперпараметров\n",
        "    #\"br_tree_gs\",\n",
        "    # Binary Relevance с использованием дерева принятия решений и\n",
        "    # случайного перебора гиперпараметров\n",
        "    #\"br_tree_rs\",\n",
        "    # Binary Relevance с использованием градиентного бустинга\n",
        "    #\"br_gb\",\n",
        "    # Binary Relevance с использованием градиентного бустинга и перебора гиперпараметров\n",
        "    #\"br_gb_gs\",\n",
        "    # Цепочка наивных Байесовских классификаторов\n",
        "    \"clc_nb\",\n",
        "    # Цепочка логистических регрессий\n",
        "    \"clc_log\",\n",
        "    # Цепочка решающих деревьев\n",
        "    \"clc_tree\",\n",
        "    # Цепочка решающих деревьев с перебором гиперпараметров\n",
        "    #\"clc_tree_gs\",\n",
        "    # Цепочка решающих деревьев со случайным перебором гиперпараметров\n",
        "    #\"clc_tree_rs\",\n",
        "    # Цепочка градиентных бустингов\n",
        "    #\"clc_gb\",\n",
        "    # Цепочка градиентных бустингов с перебором гиперпараметров\n",
        "    #\"clc_gb_gs\",\n",
        "    # Label Powerset на основе наивного Байесовского классификатора\n",
        "    \"lp_nb\",\n",
        "    # Label Powerset на основе логистической регрессии\n",
        "    \"lp_log\",\n",
        "    # LabelPowerset на основе решающих деревьев\n",
        "    \"lp_tree\",\n",
        "    # LabelPowerset на основе решающих деревьев с перебором гиперпараметров\n",
        "    #\"lp_tree_gs\",\n",
        "    # Адаптированный алкоритм K ближайших соседей\n",
        "    #\"mlknn\",\n",
        "    # Адаптированный алкоритм K ближайших соседей + GridSearch\n",
        "    #\"mlknn_gs\",\n",
        "    # Адаптированный алкоритм K ближайших соседей + RandomizedSearch\n",
        "    #\"mlknn_rs\",\n",
        "    # Случайное разделение множества меток на основе наивных Байесовских\n",
        "    # классификаторов\n",
        "    #\"rakeld_nb\",\n",
        "    # Случайное разделение множества меток на основе решающих деревьев\n",
        "    #\"rakeld_tree\"\n",
        "]"
      ],
      "execution_count": null,
      "outputs": []
    },
    {
      "cell_type": "code",
      "metadata": {
        "id": "objective-cursor"
      },
      "source": [
        "def create_model(model_type):\n",
        "    \"\"\"\n",
        "    Возвращает объект необученного классификатора заданного типа\n",
        "\n",
        "    Параметры\n",
        "    ---------\n",
        "    model_type : str\n",
        "        Одна из строк, входящих в набор ALL_MODELS\n",
        "\n",
        "    Возвращает\n",
        "    ----------\n",
        "    model : skmultilearn.Estimator\n",
        "        Необученный мультиклассификатор заданного типа\n",
        "    \"\"\"\n",
        "    if model_type == \"br_nb\":\n",
        "        return BinaryRelevance(\n",
        "            classifier=BernoulliNB(),\n",
        "            require_dense=[True, True],\n",
        "        )\n",
        "    if model_type == \"br_log\":\n",
        "        return BinaryRelevance(\n",
        "            SGDClassifier(loss='hinge', alpha=0.00001, penalty='l2', n_jobs=-1)\n",
        "        )\n",
        "    if model_type == \"br_log2\":\n",
        "        return BinaryRelevance(\n",
        "            classifier=LogisticRegression(solver='sag'),\n",
        "            require_dense=[True, True],\n",
        "        )\n",
        "    if model_type == \"br_tree\":\n",
        "        return BinaryRelevance(\n",
        "            classifier=DecisionTreeClassifier(random_state=123, max_depth=5),\n",
        "            require_dense=[True, True],\n",
        "        )\n",
        "    if model_type == \"clc_nb\":\n",
        "        return ClassifierChain(\n",
        "            classifier=BernoulliNB(),\n",
        "            require_dense=[True, True],\n",
        "        )\n",
        "    if model_type == \"clc_log\":\n",
        "        return ClassifierChain(\n",
        "            classifier=LogisticRegression(solver='sag'),\n",
        "            require_dense=[True, True],\n",
        "        )\n",
        "    if model_type == \"clc_tree\":\n",
        "        return ClassifierChain(\n",
        "            classifier=DecisionTreeClassifier(random_state=123, max_depth=5),\n",
        "            require_dense=[True, True],\n",
        "        )\n",
        "    if model_type == \"lp_nb\":\n",
        "        return LabelPowerset(\n",
        "            classifier=BernoulliNB(),\n",
        "            require_dense=[True, True],\n",
        "        )\n",
        "    if model_type == \"lp_log\":\n",
        "        return LabelPowerset(\n",
        "            classifier=LogisticRegression(),\n",
        "            require_dense=[True, True],\n",
        "        )\n",
        "    if model_type == \"lp_tree\":\n",
        "        return LabelPowerset(\n",
        "            classifier=DecisionTreeClassifier(random_state=123, max_depth=5),\n",
        "            require_dense=[True, True],\n",
        "       )\n",
        "    \"\"\"\n",
        "    if model_type == \"mlknn\":\n",
        "        return MLkNN(\n",
        "            classifier =MLkNN(random_state=123, max_depth= 5),\n",
        "            require_dense=[True, True]\n",
        "        )\n",
        "    if model_type == \"rakeld_nb\":\n",
        "        return RakelD(\n",
        "            base_classifier=BernoulliNB(),\n",
        "            base_classifier_require_dense=[True, True],\n",
        "        )\n",
        "    if model_type == \"rakeld_tree\":\n",
        "        return RakelD(\n",
        "            base_classifier=DecisionTreeClassifier(random_state=123, max_depth=5),\n",
        "            base_classifier_require_dense=[True, True]\n",
        "        )\n",
        "     \"\"\"\n",
        "    raise ValueError(\"Неизвестный тип классификатора {}\".format(model_type))"
      ],
      "execution_count": null,
      "outputs": []
    },
    {
      "cell_type": "code",
      "metadata": {
        "id": "worthy-remainder"
      },
      "source": [
        "def create_sample(data,\n",
        "                  min_size: int,\n",
        "                  min_total: int = None,\n",
        "                  output_filename: str = None):\n",
        "    \"\"\"\n",
        "    Выбирает из матрицы данных data случайным образом несколько фильмов\n",
        "    таким образом, чтобы в выборке оказались как минимум min_size\n",
        "    фильмов каждого жанра. Записывает выборку в csv-файл output_filename,\n",
        "    если имя файла не None. Также возвращает выборку в виде объекта\n",
        "    pandas.DataFrame\n",
        "\n",
        "    Требует наличия глобальной списочной переменной ALL_GENRES, содержащей\n",
        "    список строк. Все эти строки должны присутствовать среди имен столбцов\n",
        "    data\n",
        "\n",
        "    Параметры\n",
        "    ---------\n",
        "    data : pandas.DataFrame\n",
        "        Исходная матрица данных, строки которой, как предполагаются,\n",
        "        соответствуют фильмам\n",
        "\n",
        "    min_size : int\n",
        "        Минимальное количество фильмов каждого жанра, которые должны\n",
        "        попасть в итоговую выборку. Это означает, что для каждого имени\n",
        "        столбца, входящего в список ALL_GENRES, в выборке окажется не менее\n",
        "        этого количества строк, для которых этот столбец равен 1.\n",
        "\n",
        "    min_total : int, необязателен\n",
        "        Если задан, то обязательно возвращается выборка, содержащая не менее\n",
        "        этого числа фильмов. Будет выброшено исключение, если это значение\n",
        "        больше количества строк в data\n",
        "\n",
        "    output_filename : str, необязателен\n",
        "        Если не равен None, то возвращаемое значение также будет записано\n",
        "        в этот файл в формате CSV. Возвращено оно будет все равно\n",
        "\n",
        "    Возвращает\n",
        "    ----------\n",
        "    sample : pandas.DataFrame\n",
        "        Выборка из фрейма данных data. Гарантированно содержит не менее\n",
        "        min_size фильмов каждого жанра и менее min_total фильмов всего,\n",
        "        если значение min_total не равно None\n",
        "    \"\"\"\n",
        "    rnd = Random()\n",
        "    if \"split\" in data.columns:\n",
        "        # При наличии колонки split пытаемся сделать выборку, содержащую\n",
        "        # фильмы каждого жанра для каждого из значений split\n",
        "        ids = set()\n",
        "        for group in set(data[\"split\"]):\n",
        "            s = create_sample(\n",
        "                data.loc[data.split == group].drop('split', axis='columns'),\n",
        "                min_size=min_size * (3 if group == 'train' else 1),\n",
        "                output_filename = None\n",
        "            )\n",
        "            ids = ids.union(set(s.index))\n",
        "    else:\n",
        "        # Выбираем небольшое подмножество фильмов для каждого жанра и\n",
        "        # объединяем их все\n",
        "        ids = set()\n",
        "        for genre in ALL_GENRES:\n",
        "            chunk = data.loc[data[genre] == 1]\n",
        "            ids = ids.union(\n",
        "                set(\n",
        "                    rnd.sample(list(chunk.index), min(min_size, len(chunk)))\n",
        "                )\n",
        "            )\n",
        "    if min_total and min_total > len(ids):\n",
        "        # Если задано минимальное общее количество фильмов в выборке, а\n",
        "        # наша выборка фильмов меньше, то дополняем ее до этого количества.\n",
        "        ids = ids.union(\n",
        "            rnd.sample(set(data.index) - ids, min_total - len(ids))\n",
        "        )\n",
        "    sample = data.loc[sorted(ids)]\n",
        "    if output_filename:\n",
        "        sample.to_csv(output_filename, quoting=csv.QUOTE_ALL)\n",
        "    return sample"
      ],
      "execution_count": null,
      "outputs": []
    },
    {
      "cell_type": "code",
      "metadata": {
        "id": "ignored-dealing"
      },
      "source": [
        "def split_data(data, max_features: int = MAX_FEATURES):\n",
        "    \"\"\"\n",
        "    Разбивает данные на обучающие и тестовые\n",
        "\n",
        "    Параметры\n",
        "    ---------\n",
        "    data : pandas.DataFrame\n",
        "        Исходная матрица данных\n",
        "\n",
        "    max_features : int\n",
        "        Максимальное количество возвращаемых признаков. Может равняться\n",
        "        None, чтобы не ограничивать количество возвращаемых признаков\n",
        "\n",
        "    Возвращает\n",
        "    ----------\n",
        "    X_train : numpy.ndarray (test_size, num_features)\n",
        "        Признаки для обучения\n",
        "\n",
        "    X_test : numpy.ndarray (test_size, num_featrues)\n",
        "        Признаки для тестирования\n",
        "\n",
        "    Y_train : numpy.ndarray (test_size, num_genres)\n",
        "        Целевые метки для обучения\n",
        "\n",
        "    Y_test = numpy.ndarray (test_size, num_genres)\n",
        "        Целевые метки для тестирования\n",
        "    \"\"\"\n",
        "    data_train = data.loc[(data[\"split\"] == \"train\") | (data[\"split\"] == \"val\")]\n",
        "    data_test = data.loc[data.split == 'test']\n",
        "    Y_train = data_train[ALL_GENRES]\n",
        "    Y_test = data_test[ALL_GENRES]\n",
        "    vectorizer = TfidfVectorizer(strip_accents='unicode', max_df=0.8, min_df=5, use_idf=True, sublinear_tf=True, norm='l2', max_features=MAX_FEATURES)\n",
        "    vectorizer.fit(data_train.lemmas)\n",
        "    X_train = vectorizer.transform(data_train.lemmas)\n",
        "    X_test = vectorizer.transform(data_test.lemmas)\n",
        "    return (X_train, X_test, Y_train.values, Y_test.values)"
      ],
      "execution_count": null,
      "outputs": []
    },
    {
      "cell_type": "code",
      "metadata": {
        "id": "political-cambridge"
      },
      "source": [
        "def train_models(data, max_features: int = MAX_FEATURES, output_path: str = None):\n",
        "    \"\"\"\n",
        "    Обучает модели классификации по жанрам на наборе данных data и сохраняет\n",
        "    их в каталоге output_path\n",
        "    \n",
        "    Возвращает\n",
        "    ----------\n",
        "    all_models : dict\n",
        "        Словарь, содержащий все обученные мультиклассификаторы, индексируемые\n",
        "        их строковыми обозначениями из списка ALL_MODELS\n",
        "    \"\"\"\n",
        "    results = pd.DataFrame(\n",
        "        columns=[\"Model\", \"Accuracy\", \"Hamming Loss\", \"Precision\", \"Recall\", \"F1\", \"Time\"]\n",
        "    )\n",
        "    models = {}\n",
        "    (X_train, X_test, Y_train, Y_test) = split_data(\n",
        "        data, max_features=max_features\n",
        "    )\n",
        "    for model_type in ALL_MODELS:\n",
        "        print(\"Обучается модель {}...\".format(model_type))\n",
        "        start = datetime.datetime.now()\n",
        "        model = create_model(model_type)\n",
        "        model.fit(X_train, Y_train)\n",
        "        y_pred = model.predict(X_test)\n",
        "        accuracy = accuracy_score(Y_test, y_pred)\n",
        "        hloss = hamming_loss(Y_test, y_pred)\n",
        "        precision = precision_score(Y_test, y_pred, average='micro')\n",
        "        recall = recall_score(Y_test, y_pred, average='micro')\n",
        "        f1 = f1_score(Y_test, y_pred, average='micro')\n",
        "        end = datetime.datetime.now()\n",
        "        results = results.append(\n",
        "            pd.Series(\n",
        "                {\n",
        "                    \"Model\": model_type,\n",
        "                    \"Accuracy\": accuracy,\n",
        "                    \"Hamming Loss\": hloss,\n",
        "                    \"Precision\": precision, \n",
        "                    \"Recall\": recall, \n",
        "                    \"F1\": f1,\n",
        "                    \"Time\": (end - start).total_seconds()\n",
        "                }\n",
        "            ),\n",
        "            ignore_index=True\n",
        "        )\n",
        "        models[model_type] = model\n",
        "        if output_path:\n",
        "            os.makedirs(output_path, exist_ok=True)\n",
        "            filename = os.path.join(output_path, \"{}.dat\".format(model_type))\n",
        "            joblib.dump(model, filename)\n",
        "    return (models, results)"
      ],
      "execution_count": null,
      "outputs": []
    },
    {
      "cell_type": "code",
      "metadata": {
        "id": "sufficient-audience"
      },
      "source": [
        "def predict_movie(data,\n",
        "                  model,\n",
        "                  *,\n",
        "                  movie_id: str,\n",
        "                  max_features: int = MAX_FEATURES):\n",
        "    \"\"\"\n",
        "    Выводит на экран оригинальное и предсказанное значение жанра для\n",
        "    определенного фильма\n",
        "    \n",
        "    Параметры\n",
        "    ---------\n",
        "    data : pandas.DataFrame\n",
        "        Матрица данных с информацией о фильмах\n",
        "\n",
        "    model : str или skmultilearn.Estimator\n",
        "        Модель для предсказания жанров или имя файла, хранящего такую модель\n",
        "    \n",
        "    movie_id : str\n",
        "        Идентификатор фильма, для которого смотрим значения жанра\n",
        "    \"\"\"\n",
        "    data_train = data.loc[(data[\"split\"] == \"train\") | (data[\"split\"] == \"val\")]\n",
        "    vectorizer = TfidfVectorizer(strip_accents='unicode', max_df=0.8, min_df=5, use_idf=True, sublinear_tf=True, norm='l2', max_features=MAX_FEATURES)\n",
        "    vectorizer.fit(data_train.lemmas)\n",
        "    X = vectorizer.transform([data.loc[movie_id, \"lemmas\"]])\n",
        "    if isinstance(model, str):\n",
        "        model = joblib.load(model)\n",
        "    y_true = data.loc[movie_id, ALL_GENRES]\n",
        "    y_pred = np.ravel(y_pred)\n",
        "    print(\"Movie: {}\".format(data.loc[movie_id, \"title\"]))\n",
        "    print(\n",
        "        \"Actual genres: {}\".format(\n",
        "            \", \".join([x for (i, x) in enumerate(ALL_GENRES) if y_true.ravel()[i] > 0])\n",
        "        )\n",
        "    )\n",
        "    print(\n",
        "        \"Predicted genres: {}\".format(\n",
        "            \", \".join([x for (i, x) in enumerate(ALL_GENRES) if y_pred.ravel()[i] > 0])\n",
        "        )\n",
        "    )"
      ],
      "execution_count": null,
      "outputs": []
    },
    {
      "cell_type": "markdown",
      "metadata": {
        "id": "gYhqIQUX_k_m"
      },
      "source": [
        "3time reapet click on data atomatcilaly file loaded with using alternate data"
      ]
    },
    {
      "cell_type": "code",
      "metadata": {
        "id": "eBg8fDAYZz5C"
      },
      "source": [
        "data = pd.read_csv(\"/content/Lemmas.csv\").set_index('imdb_id')\n",
        "#data =pd.read_csv(open('/content/Lemmas.csv','rU'), encoding='utf-8', engine='python')"
      ],
      "execution_count": null,
      "outputs": []
    },
    {
      "cell_type": "code",
      "metadata": {
        "id": "opened-blond"
      },
      "source": [
        "from random import Random\n",
        "sample = create_sample(data, 10, 1500)\n",
        "#sample = data"
      ],
      "execution_count": null,
      "outputs": []
    },
    {
      "cell_type": "code",
      "metadata": {
        "id": "golden-cincinnati",
        "colab": {
          "base_uri": "https://localhost:8080/"
        },
        "outputId": "73cf6c9a-85e5-4acb-aaf8-81153d83bafc"
      },
      "source": [
        "data.split.value_counts(normalize=True)"
      ],
      "execution_count": null,
      "outputs": [
        {
          "output_type": "execute_result",
          "data": {
            "text/plain": [
              "train    0.629157\n",
              "test     0.207565\n",
              "val      0.163278\n",
              "Name: split, dtype: float64"
            ]
          },
          "metadata": {
            "tags": []
          },
          "execution_count": 16
        }
      ]
    },
    {
      "cell_type": "code",
      "metadata": {
        "id": "primary-financing",
        "colab": {
          "base_uri": "https://localhost:8080/"
        },
        "outputId": "09655f06-04a2-4493-c469-ee18fb7e82ee"
      },
      "source": [
        "sample.split.value_counts(normalize=True)"
      ],
      "execution_count": null,
      "outputs": [
        {
          "output_type": "execute_result",
          "data": {
            "text/plain": [
              "train    0.622986\n",
              "test     0.195081\n",
              "val      0.181934\n",
              "Name: split, dtype: float64"
            ]
          },
          "metadata": {
            "tags": []
          },
          "execution_count": 17
        }
      ]
    },
    {
      "cell_type": "code",
      "metadata": {
        "id": "stopped-minute",
        "colab": {
          "base_uri": "https://localhost:8080/",
          "height": 264
        },
        "outputId": "680e9f4f-08fb-4767-f848-08e9c1d9b837"
      },
      "source": [
        "classes = pd.value_counts(data[\"split\"])\n",
        "classes.plot(kind = 'pie', autopct='%0.f%%') \n",
        "plt.title(\"Split distribution (data)\")\n",
        "plt.ylabel('')\n",
        "plt.show()"
      ],
      "execution_count": null,
      "outputs": [
        {
          "output_type": "display_data",
          "data": {
            "image/png": "[encoded data removed]",
            "text/plain": [
              "<Figure size 432x288 with 1 Axes>"
            ]
          },
          "metadata": {
            "tags": []
          }
        }
      ]
    },
    {
      "cell_type": "code",
      "metadata": {
        "id": "essential-kruger",
        "colab": {
          "base_uri": "https://localhost:8080/",
          "height": 264
        },
        "outputId": "ad6043a7-8efa-4630-84d2-c52926357738"
      },
      "source": [
        "classes = pd.value_counts(sample[\"split\"])\n",
        "classes.plot(kind = 'pie', autopct='%0.f%%') \n",
        "plt.title(\"Split distribution (sample)\")\n",
        "plt.ylabel('')\n",
        "plt.show()"
      ],
      "execution_count": null,
      "outputs": [
        {
          "output_type": "display_data",
          "data": {
            "image/png": "[encoded data removed]",
            "text/plain": [
              "<Figure size 432x288 with 1 Axes>"
            ]
          },
          "metadata": {
            "tags": []
          }
        }
      ]
    },
    {
      "cell_type": "code",
      "metadata": {
        "id": "through-match",
        "colab": {
          "base_uri": "https://localhost:8080/"
        },
        "outputId": "9a81c96f-055a-401c-880c-2c0be3aac927"
      },
      "source": [
        "(all_models, results) = train_models(sample)"
      ],
      "execution_count": null,
      "outputs": [
        {
          "output_type": "stream",
          "text": [
            "Обучается модель br_nb...\n",
            "Обучается модель br_log...\n",
            "Обучается модель br_log2...\n",
            "Обучается модель br_tree...\n",
            "Обучается модель clc_nb...\n",
            "Обучается модель clc_log...\n",
            "Обучается модель clc_tree...\n",
            "Обучается модель lp_nb...\n",
            "Обучается модель lp_log...\n",
            "Обучается модель lp_tree...\n"
          ],
          "name": "stdout"
        }
      ]
    },
    {
      "cell_type": "code",
      "metadata": {
        "id": "v1MHSJxemyiX",
        "colab": {
          "base_uri": "https://localhost:8080/"
        },
        "outputId": "8f702c9c-c366-4de9-bf68-e1fb67992876"
      },
      "source": [
        "print(results)"
      ],
      "execution_count": null,
      "outputs": [
        {
          "output_type": "stream",
          "text": [
            "      Model  Accuracy  Hamming Loss  Precision    Recall        F1        Time\n",
            "0     br_nb  0.002174      0.130557   0.265572  0.311523  0.286718   35.254226\n",
            "1    br_log  0.002174      0.080465   0.552699  0.234460  0.329250   58.223472\n",
            "2   br_log2  0.004348      0.076883   0.804569  0.115231  0.201590  420.202291\n",
            "3   br_tree  0.008696      0.087416   0.454939  0.190840  0.268886  179.725653\n",
            "4    clc_nb  0.002174      0.133833   0.256757  0.310796  0.281204   62.968693\n",
            "5   clc_log  0.002174      0.082701   0.867647  0.021447  0.041859  546.254518\n",
            "6  clc_tree  0.010870      0.085058   0.487580  0.192657  0.276186   74.967501\n",
            "7     lp_nb  0.000000      0.098316   0.000000  0.000000  0.000000    5.364432\n",
            "8    lp_log  0.002174      0.098071   0.008696  0.001454  0.002491  155.587632\n",
            "9   lp_tree  0.002174      0.097642   0.023913  0.003999  0.006851   14.099159\n"
          ],
          "name": "stdout"
        }
      ]
    },
    {
      "cell_type": "code",
      "metadata": {
        "id": "si2g1sFImz1C"
      },
      "source": [
        "results.to_csv('model-stats.csv', encoding='utf-8', index=False)"
      ],
      "execution_count": null,
      "outputs": []
    },
    {
      "cell_type": "code",
      "metadata": {
        "id": "E5mhH4Svm50X"
      },
      "source": [
        "results = pd.read_csv(\"model-stats.csv\")"
      ],
      "execution_count": null,
      "outputs": []
    },
    {
      "cell_type": "code",
      "metadata": {
        "id": "GVyV_uD4nD4J",
        "colab": {
          "base_uri": "https://localhost:8080/",
          "height": 340
        },
        "outputId": "9dcad85f-89eb-462a-863a-a07cfbc4dc3a"
      },
      "source": [
        "results"
      ],
      "execution_count": null,
      "outputs": [
        {
          "output_type": "execute_result",
          "data": {
            "text/html": [
              "<div>\n",
              "<style scoped>\n",
              "    .dataframe tbody tr th:only-of-type {\n",
              "        vertical-align: middle;\n",
              "    }\n",
              "\n",
              "    .dataframe tbody tr th {\n",
              "        vertical-align: top;\n",
              "    }\n",
              "\n",
              "    .dataframe thead th {\n",
              "        text-align: right;\n",
              "    }\n",
              "</style>\n",
              "<table border=\"1\" class=\"dataframe\">\n",
              "  <thead>\n",
              "    <tr style=\"text-align: right;\">\n",
              "      <th></th>\n",
              "      <th>Model</th>\n",
              "      <th>Accuracy</th>\n",
              "      <th>Hamming Loss</th>\n",
              "      <th>Precision</th>\n",
              "      <th>Recall</th>\n",
              "      <th>F1</th>\n",
              "      <th>Time</th>\n",
              "    </tr>\n",
              "  </thead>\n",
              "  <tbody>\n",
              "    <tr>\n",
              "      <th>0</th>\n",
              "      <td>br_nb</td>\n",
              "      <td>0.002174</td>\n",
              "      <td>0.130557</td>\n",
              "      <td>0.265572</td>\n",
              "      <td>0.311523</td>\n",
              "      <td>0.286718</td>\n",
              "      <td>35.254226</td>\n",
              "    </tr>\n",
              "    <tr>\n",
              "      <th>1</th>\n",
              "      <td>br_log</td>\n",
              "      <td>0.002174</td>\n",
              "      <td>0.080465</td>\n",
              "      <td>0.552699</td>\n",
              "      <td>0.234460</td>\n",
              "      <td>0.329250</td>\n",
              "      <td>58.223472</td>\n",
              "    </tr>\n",
              "    <tr>\n",
              "      <th>2</th>\n",
              "      <td>br_log2</td>\n",
              "      <td>0.004348</td>\n",
              "      <td>0.076883</td>\n",
              "      <td>0.804569</td>\n",
              "      <td>0.115231</td>\n",
              "      <td>0.201590</td>\n",
              "      <td>420.202291</td>\n",
              "    </tr>\n",
              "    <tr>\n",
              "      <th>3</th>\n",
              "      <td>br_tree</td>\n",
              "      <td>0.008696</td>\n",
              "      <td>0.087416</td>\n",
              "      <td>0.454939</td>\n",
              "      <td>0.190840</td>\n",
              "      <td>0.268886</td>\n",
              "      <td>179.725653</td>\n",
              "    </tr>\n",
              "    <tr>\n",
              "      <th>4</th>\n",
              "      <td>clc_nb</td>\n",
              "      <td>0.002174</td>\n",
              "      <td>0.133833</td>\n",
              "      <td>0.256757</td>\n",
              "      <td>0.310796</td>\n",
              "      <td>0.281204</td>\n",
              "      <td>62.968693</td>\n",
              "    </tr>\n",
              "    <tr>\n",
              "      <th>5</th>\n",
              "      <td>clc_log</td>\n",
              "      <td>0.002174</td>\n",
              "      <td>0.082701</td>\n",
              "      <td>0.867647</td>\n",
              "      <td>0.021447</td>\n",
              "      <td>0.041859</td>\n",
              "      <td>546.254518</td>\n",
              "    </tr>\n",
              "    <tr>\n",
              "      <th>6</th>\n",
              "      <td>clc_tree</td>\n",
              "      <td>0.010870</td>\n",
              "      <td>0.085058</td>\n",
              "      <td>0.487580</td>\n",
              "      <td>0.192657</td>\n",
              "      <td>0.276186</td>\n",
              "      <td>74.967501</td>\n",
              "    </tr>\n",
              "    <tr>\n",
              "      <th>7</th>\n",
              "      <td>lp_nb</td>\n",
              "      <td>0.000000</td>\n",
              "      <td>0.098316</td>\n",
              "      <td>0.000000</td>\n",
              "      <td>0.000000</td>\n",
              "      <td>0.000000</td>\n",
              "      <td>5.364432</td>\n",
              "    </tr>\n",
              "    <tr>\n",
              "      <th>8</th>\n",
              "      <td>lp_log</td>\n",
              "      <td>0.002174</td>\n",
              "      <td>0.098071</td>\n",
              "      <td>0.008696</td>\n",
              "      <td>0.001454</td>\n",
              "      <td>0.002491</td>\n",
              "      <td>155.587632</td>\n",
              "    </tr>\n",
              "    <tr>\n",
              "      <th>9</th>\n",
              "      <td>lp_tree</td>\n",
              "      <td>0.002174</td>\n",
              "      <td>0.097642</td>\n",
              "      <td>0.023913</td>\n",
              "      <td>0.003999</td>\n",
              "      <td>0.006851</td>\n",
              "      <td>14.099159</td>\n",
              "    </tr>\n",
              "  </tbody>\n",
              "</table>\n",
              "</div>"
            ],
            "text/plain": [
              "      Model  Accuracy  Hamming Loss  Precision    Recall        F1        Time\n",
              "0     br_nb  0.002174      0.130557   0.265572  0.311523  0.286718   35.254226\n",
              "1    br_log  0.002174      0.080465   0.552699  0.234460  0.329250   58.223472\n",
              "2   br_log2  0.004348      0.076883   0.804569  0.115231  0.201590  420.202291\n",
              "3   br_tree  0.008696      0.087416   0.454939  0.190840  0.268886  179.725653\n",
              "4    clc_nb  0.002174      0.133833   0.256757  0.310796  0.281204   62.968693\n",
              "5   clc_log  0.002174      0.082701   0.867647  0.021447  0.041859  546.254518\n",
              "6  clc_tree  0.010870      0.085058   0.487580  0.192657  0.276186   74.967501\n",
              "7     lp_nb  0.000000      0.098316   0.000000  0.000000  0.000000    5.364432\n",
              "8    lp_log  0.002174      0.098071   0.008696  0.001454  0.002491  155.587632\n",
              "9   lp_tree  0.002174      0.097642   0.023913  0.003999  0.006851   14.099159"
            ]
          },
          "metadata": {
            "tags": []
          },
          "execution_count": 24
        }
      ]
    }
  ]
}